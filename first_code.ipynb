{
  "nbformat": 4,
  "nbformat_minor": 0,
  "metadata": {
    "colab": {
      "provenance": [],
      "authorship_tag": "ABX9TyMrPyOu0CTpc+Q4KlYl5SGd",
      "include_colab_link": true
    },
    "kernelspec": {
      "name": "python3",
      "display_name": "Python 3"
    },
    "language_info": {
      "name": "python"
    }
  },
  "cells": [
    {
      "cell_type": "markdown",
      "metadata": {
        "id": "view-in-github",
        "colab_type": "text"
      },
      "source": [
        "<a href=\"https://colab.research.google.com/github/kiritona/lifecode/blob/main/first_code.ipynb\" target=\"_parent\"><img src=\"https://colab.research.google.com/assets/colab-badge.svg\" alt=\"Open In Colab\"/></a>"
      ]
    },
    {
      "cell_type": "markdown",
      "source": [],
      "metadata": {
        "id": "PS3QuzWR0BzK"
      }
    },
    {
      "cell_type": "markdown",
      "source": [
        "나의 첫번째코드\n"
      ],
      "metadata": {
        "id": "dzTigQPl0D2C"
      }
    },
    {
      "cell_type": "code",
      "source": [
        "name = \"jungjinuk\";\n",
        "print(name)"
      ],
      "metadata": {
        "colab": {
          "base_uri": "https://localhost:8080/"
        },
        "id": "11ALeFFc0PUh",
        "outputId": "2675d736-fd8c-4898-df3b-4e0205ff2462"
      },
      "execution_count": 3,
      "outputs": [
        {
          "output_type": "stream",
          "name": "stdout",
          "text": [
            "jungjinuk\n"
          ]
        }
      ]
    },
    {
      "cell_type": "markdown",
      "source": [
        "코딩 두번째,hello world!만들기"
      ],
      "metadata": {
        "id": "O41OMGJD29Qz"
      }
    },
    {
      "cell_type": "code",
      "source": [
        "name = \"hello world\";\n",
        "print(name)"
      ],
      "metadata": {
        "colab": {
          "base_uri": "https://localhost:8080/"
        },
        "id": "S-_2ObWR3TEh",
        "outputId": "cc3b4dd3-0bad-49ad-bfb0-52d6e247e998"
      },
      "execution_count": 5,
      "outputs": [
        {
          "output_type": "stream",
          "name": "stdout",
          "text": [
            "hello world\n"
          ]
        }
      ]
    }
  ]
}